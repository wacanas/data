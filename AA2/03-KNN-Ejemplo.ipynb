{
 "cells": [
  {
   "cell_type": "code",
   "execution_count": 1,
   "metadata": {},
   "outputs": [],
   "source": [
    "import numpy as np\n",
    "from math import sqrt\n",
    "from sklearn import datasets, metrics\n",
    "from sklearn.neighbors import KNeighborsClassifier\n"
   ]
  },
  {
   "cell_type": "markdown",
   "metadata": {},
   "source": [
    "Definimos una función que nos permita calcular la distancia entre dos vectores. Para así calcular la distancia entre las observaciones y así encontrar los k vecinos más cercanos."
   ]
  },
  {
   "cell_type": "code",
   "execution_count": 2,
   "metadata": {},
   "outputs": [],
   "source": [
    "def euclidean_distance(row1,row2):\n",
    "    distance = 0.0\n",
    "    for i in range(len(row1)-1):\n",
    "        distance += (row1[i] - row2[i])**2\n",
    "    return sqrt(distance)"
   ]
  },
  {
   "cell_type": "code",
   "execution_count": 3,
   "metadata": {},
   "outputs": [],
   "source": [
    "data = [[2.7810836,2.550537003,0],\n",
    "        [1.465489372,2.362125076,0],\n",
    "        [3.396561688,4.400293529,0],\n",
    "        [1.38807019,1.850220317,0],\n",
    "        [3.06407232,3.005305973,0],\n",
    "        [7.627531214,2.759262235,1],\n",
    "        [5.332441248,2.088626775,1],\n",
    "        [6.922596716,1.77106367,1],\n",
    "        [8.675418651,-0.242068655,1],\n",
    "        [7.673756466,3.508563011,1]]\n",
    "\n",
    "row0 = data[0]"
   ]
  },
  {
   "cell_type": "markdown",
   "metadata": {},
   "source": [
    "Calculamos la distancia entre el primer registro y los demás"
   ]
  },
  {
   "cell_type": "code",
   "execution_count": 4,
   "metadata": {},
   "outputs": [
    {
     "name": "stdout",
     "output_type": "stream",
     "text": [
      "0.0\n",
      "1.3290173915275787\n",
      "1.9494646655653247\n",
      "1.5591439385540549\n",
      "0.5356280721938492\n",
      "4.850940186986411\n",
      "2.592833759950511\n",
      "4.214227042632867\n",
      "6.522409988228337\n",
      "4.985585382449795\n"
     ]
    }
   ],
   "source": [
    "for row in data:\n",
    "    print(euclidean_distance(row0,row))"
   ]
  },
  {
   "cell_type": "markdown",
   "metadata": {},
   "source": [
    "Implementamos la función que nos permite obtener los vecinos más cercanos"
   ]
  },
  {
   "cell_type": "code",
   "execution_count": 5,
   "metadata": {},
   "outputs": [],
   "source": [
    "def get_neighbors(train, test_row, num_neighbors):\n",
    "    distances = list()\n",
    "    for train_row in train:\n",
    "        dist = euclidean_distance(test_row, train_row)\n",
    "        distances.append((train_row, dist))\n",
    "    distances.sort(key=lambda tup: tup[1])\n",
    "    neighbors = list()\n",
    "    for i in range(num_neighbors):\n",
    "        neighbors.append(distances[i][0])\n",
    "    return neighbors"
   ]
  },
  {
   "cell_type": "markdown",
   "metadata": {},
   "source": [
    "Probamos nuestro algoritmo con el dataset data previo. En este caso utilizamos 3 vecinos más cercanos."
   ]
  },
  {
   "cell_type": "code",
   "execution_count": 6,
   "metadata": {},
   "outputs": [
    {
     "name": "stdout",
     "output_type": "stream",
     "text": [
      "[2.7810836, 2.550537003, 0]\n",
      "[3.06407232, 3.005305973, 0]\n",
      "[1.465489372, 2.362125076, 0]\n"
     ]
    }
   ],
   "source": [
    "neighbors = get_neighbors(data, data[0], 3)\n",
    "for neighbor in neighbors:\n",
    "    print(neighbor)"
   ]
  },
  {
   "cell_type": "markdown",
   "metadata": {},
   "source": [
    "Vamos a implementar la función para hacer una predicción de clasificación utilizando los k vecinos más cercanos"
   ]
  },
  {
   "cell_type": "code",
   "execution_count": 7,
   "metadata": {},
   "outputs": [],
   "source": [
    "def predict_classification(train, test_row, num_neighbors):\n",
    "    neighbors = get_neighbors(train, test_row, num_neighbors)\n",
    "    output_values = [row[-1] for row in neighbors]\n",
    "    prediction = max(set(output_values), key=output_values.count)\n",
    "    return prediction"
   ]
  },
  {
   "cell_type": "markdown",
   "metadata": {},
   "source": [
    "Implementamos el K-nn a partir de un conjunto de entrenamiento y uno de prueba"
   ]
  },
  {
   "cell_type": "code",
   "execution_count": 8,
   "metadata": {},
   "outputs": [],
   "source": [
    "def k_nearest_neighbors(train, test, num_neighbors):\n",
    "    predictions = list()\n",
    "    for row in test:\n",
    "        output = predict_classification(train, row, num_neighbors)\n",
    "        predictions.append(output)\n",
    "    return(predictions)"
   ]
  },
  {
   "cell_type": "markdown",
   "metadata": {},
   "source": [
    "Hacemos la predicción con el dataset data"
   ]
  },
  {
   "cell_type": "code",
   "execution_count": 9,
   "metadata": {},
   "outputs": [
    {
     "name": "stdout",
     "output_type": "stream",
     "text": [
      "Expected 0, Got 0.\n",
      "Expected 0, Got 0.\n",
      "Expected 0, Got 0.\n",
      "Expected 0, Got 0.\n",
      "Expected 0, Got 0.\n",
      "Expected 1, Got 1.\n",
      "Expected 1, Got 1.\n",
      "Expected 1, Got 1.\n",
      "Expected 1, Got 1.\n",
      "Expected 1, Got 1.\n"
     ]
    }
   ],
   "source": [
    "predictions = k_nearest_neighbors(data,data,3)\n",
    "for (pred, i) in zip(predictions, range(len(predictions))):\n",
    "    print('Expected %d, Got %d.' % (data[i][-1], pred))"
   ]
  },
  {
   "cell_type": "markdown",
   "metadata": {},
   "source": [
    "Ahora vamos a utilizar el conjunto de datos de Iris para probar nuestra implementación del knn"
   ]
  },
  {
   "cell_type": "code",
   "execution_count": 10,
   "metadata": {},
   "outputs": [],
   "source": [
    "iris = datasets.load_iris() #cargamos el dataset iris de la libreria de datasets"
   ]
  },
  {
   "cell_type": "code",
   "execution_count": 11,
   "metadata": {},
   "outputs": [
    {
     "name": "stdout",
     "output_type": "stream",
     "text": [
      "(150,)\n"
     ]
    }
   ],
   "source": [
    "x = iris.data\n",
    "y = iris.target\n",
    "\n",
    "print(y.shape)"
   ]
  },
  {
   "cell_type": "code",
   "execution_count": 12,
   "metadata": {},
   "outputs": [],
   "source": [
    "y = np.expand_dims(y,axis=1)\n",
    "dataset = np.concatenate((x,y),axis=1)\n"
   ]
  },
  {
   "cell_type": "code",
   "execution_count": 13,
   "metadata": {},
   "outputs": [
    {
     "name": "stdout",
     "output_type": "stream",
     "text": [
      "Expected 0, Got 0.\n",
      "Expected 0, Got 0.\n",
      "Expected 0, Got 0.\n",
      "Expected 0, Got 0.\n",
      "Expected 0, Got 0.\n",
      "Expected 0, Got 0.\n",
      "Expected 0, Got 0.\n",
      "Expected 0, Got 0.\n",
      "Expected 0, Got 0.\n",
      "Expected 0, Got 0.\n",
      "Expected 0, Got 0.\n",
      "Expected 0, Got 0.\n",
      "Expected 0, Got 0.\n",
      "Expected 0, Got 0.\n",
      "Expected 0, Got 0.\n",
      "Expected 0, Got 0.\n",
      "Expected 0, Got 0.\n",
      "Expected 0, Got 0.\n",
      "Expected 0, Got 0.\n",
      "Expected 0, Got 0.\n",
      "Expected 0, Got 0.\n",
      "Expected 0, Got 0.\n",
      "Expected 0, Got 0.\n",
      "Expected 0, Got 0.\n",
      "Expected 0, Got 0.\n",
      "Expected 0, Got 0.\n",
      "Expected 0, Got 0.\n",
      "Expected 0, Got 0.\n",
      "Expected 0, Got 0.\n",
      "Expected 0, Got 0.\n",
      "Expected 0, Got 0.\n",
      "Expected 0, Got 0.\n",
      "Expected 0, Got 0.\n",
      "Expected 0, Got 0.\n",
      "Expected 0, Got 0.\n",
      "Expected 0, Got 0.\n",
      "Expected 0, Got 0.\n",
      "Expected 0, Got 0.\n",
      "Expected 0, Got 0.\n",
      "Expected 0, Got 0.\n",
      "Expected 0, Got 0.\n",
      "Expected 0, Got 0.\n",
      "Expected 0, Got 0.\n",
      "Expected 0, Got 0.\n",
      "Expected 0, Got 0.\n",
      "Expected 0, Got 0.\n",
      "Expected 0, Got 0.\n",
      "Expected 0, Got 0.\n",
      "Expected 0, Got 0.\n",
      "Expected 0, Got 0.\n",
      "Expected 1, Got 1.\n",
      "Expected 1, Got 1.\n",
      "Expected 1, Got 1.\n",
      "Expected 1, Got 1.\n",
      "Expected 1, Got 1.\n",
      "Expected 1, Got 1.\n",
      "Expected 1, Got 1.\n",
      "Expected 1, Got 1.\n",
      "Expected 1, Got 1.\n",
      "Expected 1, Got 1.\n",
      "Expected 1, Got 1.\n",
      "Expected 1, Got 1.\n",
      "Expected 1, Got 1.\n",
      "Expected 1, Got 1.\n",
      "Expected 1, Got 1.\n",
      "Expected 1, Got 1.\n",
      "Expected 1, Got 1.\n",
      "Expected 1, Got 1.\n",
      "Expected 1, Got 1.\n",
      "Expected 1, Got 1.\n",
      "Expected 1, Got 2.\n",
      "Expected 1, Got 1.\n",
      "Expected 1, Got 2.\n",
      "Expected 1, Got 1.\n",
      "Expected 1, Got 1.\n",
      "Expected 1, Got 1.\n",
      "Expected 1, Got 1.\n",
      "Expected 1, Got 1.\n",
      "Expected 1, Got 1.\n",
      "Expected 1, Got 1.\n",
      "Expected 1, Got 1.\n",
      "Expected 1, Got 1.\n",
      "Expected 1, Got 1.\n",
      "Expected 1, Got 2.\n",
      "Expected 1, Got 1.\n",
      "Expected 1, Got 1.\n",
      "Expected 1, Got 1.\n",
      "Expected 1, Got 1.\n",
      "Expected 1, Got 1.\n",
      "Expected 1, Got 1.\n",
      "Expected 1, Got 1.\n",
      "Expected 1, Got 1.\n",
      "Expected 1, Got 1.\n",
      "Expected 1, Got 1.\n",
      "Expected 1, Got 1.\n",
      "Expected 1, Got 1.\n",
      "Expected 1, Got 1.\n",
      "Expected 1, Got 1.\n",
      "Expected 1, Got 1.\n",
      "Expected 1, Got 1.\n",
      "Expected 2, Got 2.\n",
      "Expected 2, Got 2.\n",
      "Expected 2, Got 2.\n",
      "Expected 2, Got 2.\n",
      "Expected 2, Got 2.\n",
      "Expected 2, Got 2.\n",
      "Expected 2, Got 1.\n",
      "Expected 2, Got 2.\n",
      "Expected 2, Got 2.\n",
      "Expected 2, Got 2.\n",
      "Expected 2, Got 2.\n",
      "Expected 2, Got 2.\n",
      "Expected 2, Got 2.\n",
      "Expected 2, Got 2.\n",
      "Expected 2, Got 2.\n",
      "Expected 2, Got 2.\n",
      "Expected 2, Got 2.\n",
      "Expected 2, Got 2.\n",
      "Expected 2, Got 2.\n",
      "Expected 2, Got 1.\n",
      "Expected 2, Got 2.\n",
      "Expected 2, Got 2.\n",
      "Expected 2, Got 2.\n",
      "Expected 2, Got 2.\n",
      "Expected 2, Got 2.\n",
      "Expected 2, Got 2.\n",
      "Expected 2, Got 2.\n",
      "Expected 2, Got 2.\n",
      "Expected 2, Got 2.\n",
      "Expected 2, Got 2.\n",
      "Expected 2, Got 2.\n",
      "Expected 2, Got 2.\n",
      "Expected 2, Got 2.\n",
      "Expected 2, Got 1.\n",
      "Expected 2, Got 2.\n",
      "Expected 2, Got 2.\n",
      "Expected 2, Got 2.\n",
      "Expected 2, Got 2.\n",
      "Expected 2, Got 2.\n",
      "Expected 2, Got 2.\n",
      "Expected 2, Got 2.\n",
      "Expected 2, Got 2.\n",
      "Expected 2, Got 2.\n",
      "Expected 2, Got 2.\n",
      "Expected 2, Got 2.\n",
      "Expected 2, Got 2.\n",
      "Expected 2, Got 2.\n",
      "Expected 2, Got 2.\n",
      "Expected 2, Got 2.\n",
      "Expected 2, Got 2.\n"
     ]
    }
   ],
   "source": [
    "predictions = k_nearest_neighbors(dataset,dataset,3)\n",
    "for (pred, i) in zip(predictions, range(len(predictions))):\n",
    "    print('Expected %d, Got %d.' % (dataset[i][-1], pred))"
   ]
  },
  {
   "cell_type": "code",
   "execution_count": 14,
   "metadata": {},
   "outputs": [
    {
     "data": {
      "text/plain": [
       "KNeighborsClassifier(algorithm='auto', leaf_size=30, metric='minkowski',\n",
       "                     metric_params=None, n_jobs=None, n_neighbors=3, p=2,\n",
       "                     weights='uniform')"
      ]
     },
     "execution_count": 14,
     "metadata": {},
     "output_type": "execute_result"
    }
   ],
   "source": [
    "knn = KNeighborsClassifier(n_neighbors=3) \n",
    "knn.fit(x,y.ravel())"
   ]
  },
  {
   "cell_type": "code",
   "execution_count": 15,
   "metadata": {},
   "outputs": [
    {
     "name": "stdout",
     "output_type": "stream",
     "text": [
      "Expected 0, Got 0.\n",
      "Expected 0, Got 0.\n",
      "Expected 0, Got 0.\n",
      "Expected 0, Got 0.\n",
      "Expected 0, Got 0.\n",
      "Expected 0, Got 0.\n",
      "Expected 0, Got 0.\n",
      "Expected 0, Got 0.\n",
      "Expected 0, Got 0.\n",
      "Expected 0, Got 0.\n",
      "Expected 0, Got 0.\n",
      "Expected 0, Got 0.\n",
      "Expected 0, Got 0.\n",
      "Expected 0, Got 0.\n",
      "Expected 0, Got 0.\n",
      "Expected 0, Got 0.\n",
      "Expected 0, Got 0.\n",
      "Expected 0, Got 0.\n",
      "Expected 0, Got 0.\n",
      "Expected 0, Got 0.\n",
      "Expected 0, Got 0.\n",
      "Expected 0, Got 0.\n",
      "Expected 0, Got 0.\n",
      "Expected 0, Got 0.\n",
      "Expected 0, Got 0.\n",
      "Expected 0, Got 0.\n",
      "Expected 0, Got 0.\n",
      "Expected 0, Got 0.\n",
      "Expected 0, Got 0.\n",
      "Expected 0, Got 0.\n",
      "Expected 0, Got 0.\n",
      "Expected 0, Got 0.\n",
      "Expected 0, Got 0.\n",
      "Expected 0, Got 0.\n",
      "Expected 0, Got 0.\n",
      "Expected 0, Got 0.\n",
      "Expected 0, Got 0.\n",
      "Expected 0, Got 0.\n",
      "Expected 0, Got 0.\n",
      "Expected 0, Got 0.\n",
      "Expected 0, Got 0.\n",
      "Expected 0, Got 0.\n",
      "Expected 0, Got 0.\n",
      "Expected 0, Got 0.\n",
      "Expected 0, Got 0.\n",
      "Expected 0, Got 0.\n",
      "Expected 0, Got 0.\n",
      "Expected 0, Got 0.\n",
      "Expected 0, Got 0.\n",
      "Expected 0, Got 0.\n",
      "Expected 1, Got 1.\n",
      "Expected 1, Got 1.\n",
      "Expected 1, Got 1.\n",
      "Expected 1, Got 1.\n",
      "Expected 1, Got 1.\n",
      "Expected 1, Got 1.\n",
      "Expected 1, Got 1.\n",
      "Expected 1, Got 1.\n",
      "Expected 1, Got 1.\n",
      "Expected 1, Got 1.\n",
      "Expected 1, Got 1.\n",
      "Expected 1, Got 1.\n",
      "Expected 1, Got 1.\n",
      "Expected 1, Got 1.\n",
      "Expected 1, Got 1.\n",
      "Expected 1, Got 1.\n",
      "Expected 1, Got 1.\n",
      "Expected 1, Got 1.\n",
      "Expected 1, Got 1.\n",
      "Expected 1, Got 1.\n",
      "Expected 1, Got 2.\n",
      "Expected 1, Got 1.\n",
      "Expected 1, Got 2.\n",
      "Expected 1, Got 1.\n",
      "Expected 1, Got 1.\n",
      "Expected 1, Got 1.\n",
      "Expected 1, Got 1.\n",
      "Expected 1, Got 1.\n",
      "Expected 1, Got 1.\n",
      "Expected 1, Got 1.\n",
      "Expected 1, Got 1.\n",
      "Expected 1, Got 1.\n",
      "Expected 1, Got 1.\n",
      "Expected 1, Got 2.\n",
      "Expected 1, Got 1.\n",
      "Expected 1, Got 1.\n",
      "Expected 1, Got 1.\n",
      "Expected 1, Got 1.\n",
      "Expected 1, Got 1.\n",
      "Expected 1, Got 1.\n",
      "Expected 1, Got 1.\n",
      "Expected 1, Got 1.\n",
      "Expected 1, Got 1.\n",
      "Expected 1, Got 1.\n",
      "Expected 1, Got 1.\n",
      "Expected 1, Got 1.\n",
      "Expected 1, Got 1.\n",
      "Expected 1, Got 1.\n",
      "Expected 1, Got 1.\n",
      "Expected 1, Got 1.\n",
      "Expected 2, Got 2.\n",
      "Expected 2, Got 2.\n",
      "Expected 2, Got 2.\n",
      "Expected 2, Got 2.\n",
      "Expected 2, Got 2.\n",
      "Expected 2, Got 2.\n",
      "Expected 2, Got 1.\n",
      "Expected 2, Got 2.\n",
      "Expected 2, Got 2.\n",
      "Expected 2, Got 2.\n",
      "Expected 2, Got 2.\n",
      "Expected 2, Got 2.\n",
      "Expected 2, Got 2.\n",
      "Expected 2, Got 2.\n",
      "Expected 2, Got 2.\n",
      "Expected 2, Got 2.\n",
      "Expected 2, Got 2.\n",
      "Expected 2, Got 2.\n",
      "Expected 2, Got 2.\n",
      "Expected 2, Got 1.\n",
      "Expected 2, Got 2.\n",
      "Expected 2, Got 2.\n",
      "Expected 2, Got 2.\n",
      "Expected 2, Got 2.\n",
      "Expected 2, Got 2.\n",
      "Expected 2, Got 2.\n",
      "Expected 2, Got 2.\n",
      "Expected 2, Got 2.\n",
      "Expected 2, Got 2.\n",
      "Expected 2, Got 2.\n",
      "Expected 2, Got 2.\n",
      "Expected 2, Got 2.\n",
      "Expected 2, Got 2.\n",
      "Expected 2, Got 1.\n",
      "Expected 2, Got 2.\n",
      "Expected 2, Got 2.\n",
      "Expected 2, Got 2.\n",
      "Expected 2, Got 2.\n",
      "Expected 2, Got 2.\n",
      "Expected 2, Got 2.\n",
      "Expected 2, Got 2.\n",
      "Expected 2, Got 2.\n",
      "Expected 2, Got 2.\n",
      "Expected 2, Got 2.\n",
      "Expected 2, Got 2.\n",
      "Expected 2, Got 2.\n",
      "Expected 2, Got 2.\n",
      "Expected 2, Got 2.\n",
      "Expected 2, Got 2.\n",
      "Expected 2, Got 2.\n"
     ]
    }
   ],
   "source": [
    "y_pred = knn.predict(x)\n",
    "for (pred, i) in zip(y_pred, range(len(y_pred))):\n",
    "    print('Expected %d, Got %d.' % (dataset[i][-1], pred))"
   ]
  }
 ],
 "metadata": {
  "kernelspec": {
   "display_name": "Python 3",
   "language": "python",
   "name": "python3"
  },
  "language_info": {
   "codemirror_mode": {
    "name": "ipython",
    "version": 3
   },
   "file_extension": ".py",
   "mimetype": "text/x-python",
   "name": "python",
   "nbconvert_exporter": "python",
   "pygments_lexer": "ipython3",
   "version": "3.7.6"
  }
 },
 "nbformat": 4,
 "nbformat_minor": 5
}
